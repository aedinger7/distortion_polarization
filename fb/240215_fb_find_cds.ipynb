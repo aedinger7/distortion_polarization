{
 "cells": [
  {
   "cell_type": "code",
   "execution_count": 12,
   "id": "4a26d400-951f-44a8-a0d6-9440603bf633",
   "metadata": {},
   "outputs": [],
   "source": [
    "import pandas as pd\n",
    "import json\n",
    "import numpy as np\n",
    "import matplotlib.pyplot as plt\n",
    "import __CDS__\n",
    "\n",
    "data_fldr = \"/l/mesur/aedinge/distortion_polarization/FB_distortion/\"\n",
    "\n",
    "# 2016_categories_db.csv  2016_raw.csv            2020_categories.json\n",
    "# 2016_categories.json    2020_categories_db.csv  2020_raw.csv\n",
    "\n",
    "raw_2016 = pd.read_csv(data_fldr + \"2016_raw.csv\", lineterminator='\\n')\n",
    "raw_2020 = pd.read_csv(data_fldr + \"2020_raw.csv\", lineterminator='\\n')"
   ]
  },
  {
   "cell_type": "code",
   "execution_count": 14,
   "id": "abed0ef4-e761-480b-84b4-8135023de3a4",
   "metadata": {},
   "outputs": [
    {
     "data": {
      "text/plain": [
       "5872"
      ]
     },
     "execution_count": 14,
     "metadata": {},
     "output_type": "execute_result"
    }
   ],
   "source": [
    "len(set(raw_2016['user_id']))"
   ]
  },
  {
   "cell_type": "code",
   "execution_count": 15,
   "id": "c87a41e6-5811-4d3e-9ab2-ed04e707b0fe",
   "metadata": {},
   "outputs": [],
   "source": [
    "raw_2016['text'] = raw_2016['text'].astype(str)\n",
    "raw_2020['text'] = raw_2020['text'].astype(str)"
   ]
  },
  {
   "cell_type": "code",
   "execution_count": 16,
   "id": "2ff65c81-7024-490e-8e1e-bba82e00a343",
   "metadata": {},
   "outputs": [],
   "source": [
    "CDS_phrases_16, CDS_categories_16, CDS_per_tweet_16 = __CDS__.process_dataset(raw_2016, output=\"all_variants\")\n",
    "CDS_16 = CDS_per_tweet_16.join(CDS_categories_16)"
   ]
  },
  {
   "cell_type": "code",
   "execution_count": 17,
   "id": "f3db4b9f-d496-4e27-b6e3-f1f4279cf615",
   "metadata": {},
   "outputs": [],
   "source": [
    "CDS_phrases_20, CDS_categories_20, CDS_per_tweet_20 = __CDS__.process_dataset(raw_2020, output=\"all_variants\")\n",
    "CDS_20 = CDS_per_tweet_20.join(CDS_categories_20)"
   ]
  },
  {
   "cell_type": "code",
   "execution_count": 18,
   "id": "0f071164-a5dd-4d8c-9cd3-5acba3227f69",
   "metadata": {},
   "outputs": [],
   "source": [
    "CDS_16.to_csv(data_fldr + \"240220_all_variants_2016.csv\")\n",
    "CDS_20.to_csv(data_fldr + \"240220_all_variants_2020.csv\")"
   ]
  },
  {
   "cell_type": "code",
   "execution_count": null,
   "id": "0cb227eb-c9f0-47b3-97d5-f5848ae44ccd",
   "metadata": {},
   "outputs": [],
   "source": [
    "CDS_phrases_20"
   ]
  },
  {
   "cell_type": "code",
   "execution_count": 7,
   "id": "f0110a63-4c95-4215-a1fa-f1d9f35d43ec",
   "metadata": {},
   "outputs": [
    {
     "data": {
      "text/html": [
       "<div>\n",
       "<style scoped>\n",
       "    .dataframe tbody tr th:only-of-type {\n",
       "        vertical-align: middle;\n",
       "    }\n",
       "\n",
       "    .dataframe tbody tr th {\n",
       "        vertical-align: top;\n",
       "    }\n",
       "\n",
       "    .dataframe thead th {\n",
       "        text-align: right;\n",
       "    }\n",
       "</style>\n",
       "<table border=\"1\" class=\"dataframe\">\n",
       "  <thead>\n",
       "    <tr style=\"text-align: right;\">\n",
       "      <th></th>\n",
       "      <th>text</th>\n",
       "      <th>user_id</th>\n",
       "    </tr>\n",
       "  </thead>\n",
       "  <tbody>\n",
       "    <tr>\n",
       "      <th>0</th>\n",
       "      <td>The ultimate cabinet but I thought Trump was r...</td>\n",
       "      <td>1176172259098157</td>\n",
       "    </tr>\n",
       "    <tr>\n",
       "      <th>1</th>\n",
       "      <td>They want out.The state of California is looki...</td>\n",
       "      <td>1194335807310092</td>\n",
       "    </tr>\n",
       "    <tr>\n",
       "      <th>2</th>\n",
       "      <td>The rapper took to Facebook to celebrate Donal...</td>\n",
       "      <td>10154059521320950</td>\n",
       "    </tr>\n",
       "    <tr>\n",
       "      <th>3</th>\n",
       "      <td>WALK-OUT (videos) http://dennismichaellynch.co...</td>\n",
       "      <td>1348017055237748</td>\n",
       "    </tr>\n",
       "    <tr>\n",
       "      <th>4</th>\n",
       "      <td>Internalized misogyny. It's all too real. -R.A...</td>\n",
       "      <td>1128428797193477</td>\n",
       "    </tr>\n",
       "    <tr>\n",
       "      <th>5</th>\n",
       "      <td>Buckle up! Your country needs you at a time li...</td>\n",
       "      <td>10154073910764067</td>\n",
       "    </tr>\n",
       "    <tr>\n",
       "      <th>6</th>\n",
       "      <td>============================================ C...</td>\n",
       "      <td>10155435088693989</td>\n",
       "    </tr>\n",
       "    <tr>\n",
       "      <th>7</th>\n",
       "      <td>If you cast a vote for Jill Stein or Gary John...</td>\n",
       "      <td>1529427600407164</td>\n",
       "    </tr>\n",
       "    <tr>\n",
       "      <th>8</th>\n",
       "      <td>But note this: 74% of Republicans and 86% of D...</td>\n",
       "      <td>10154030287045667</td>\n",
       "    </tr>\n",
       "    <tr>\n",
       "      <th>9</th>\n",
       "      <td>According to exit polls President-Elect Donald...</td>\n",
       "      <td>658263794353659</td>\n",
       "    </tr>\n",
       "  </tbody>\n",
       "</table>\n",
       "</div>"
      ],
      "text/plain": [
       "                                                text            user_id\n",
       "0  The ultimate cabinet but I thought Trump was r...   1176172259098157\n",
       "1  They want out.The state of California is looki...   1194335807310092\n",
       "2  The rapper took to Facebook to celebrate Donal...  10154059521320950\n",
       "3  WALK-OUT (videos) http://dennismichaellynch.co...   1348017055237748\n",
       "4  Internalized misogyny. It's all too real. -R.A...   1128428797193477\n",
       "5  Buckle up! Your country needs you at a time li...  10154073910764067\n",
       "6  ============================================ C...  10155435088693989\n",
       "7  If you cast a vote for Jill Stein or Gary John...   1529427600407164\n",
       "8  But note this: 74% of Republicans and 86% of D...  10154030287045667\n",
       "9  According to exit polls President-Elect Donald...    658263794353659"
      ]
     },
     "execution_count": 7,
     "metadata": {},
     "output_type": "execute_result"
    }
   ],
   "source": [
    "raw_2016[:10]"
   ]
  },
  {
   "cell_type": "code",
   "execution_count": null,
   "id": "6b7d736d-4547-400e-aaa5-15a9c814f366",
   "metadata": {},
   "outputs": [],
   "source": [
    "2016_raw[:10]"
   ]
  },
  {
   "cell_type": "code",
   "execution_count": 19,
   "id": "c5925292-4217-4b26-976d-dadc080b48d1",
   "metadata": {},
   "outputs": [],
   "source": [
    "CDS_20['user_id'] = raw_2020['user_id']\n",
    "CDS_16['user_id'] = raw_2016['user_id']"
   ]
  },
  {
   "cell_type": "code",
   "execution_count": 21,
   "id": "a38f8c6b-cb3f-4861-b547-ee02dd08be2b",
   "metadata": {},
   "outputs": [
    {
     "data": {
      "text/plain": [
       "8445"
      ]
     },
     "execution_count": 21,
     "metadata": {},
     "output_type": "execute_result"
    }
   ],
   "source": [
    "len(set(CDS_20['user_id']))"
   ]
  },
  {
   "cell_type": "code",
   "execution_count": null,
   "id": "892fe663-3e4c-431d-bae5-69dddabad0a0",
   "metadata": {},
   "outputs": [],
   "source": []
  },
  {
   "cell_type": "code",
   "execution_count": 22,
   "id": "3c072b65-33a4-4a21-9745-357ecd47ccce",
   "metadata": {},
   "outputs": [],
   "source": [
    "CDS_16.to_csv(data_fldr + \"240220_all_variants_2016.csv\")\n",
    "CDS_20.to_csv(data_fldr + \"240220_all_variants_2020.csv\")"
   ]
  },
  {
   "cell_type": "code",
   "execution_count": null,
   "id": "47fef1fa-3933-455e-8ea5-23c73000279d",
   "metadata": {},
   "outputs": [],
   "source": []
  }
 ],
 "metadata": {
  "kernelspec": {
   "display_name": "Python 3",
   "language": "python",
   "name": "python3"
  },
  "language_info": {
   "codemirror_mode": {
    "name": "ipython",
    "version": 3
   },
   "file_extension": ".py",
   "mimetype": "text/x-python",
   "name": "python",
   "nbconvert_exporter": "python",
   "pygments_lexer": "ipython3",
   "version": "3.9.7"
  }
 },
 "nbformat": 4,
 "nbformat_minor": 5
}
