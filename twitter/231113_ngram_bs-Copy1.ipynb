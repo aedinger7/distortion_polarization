{
 "cells": [
  {
   "cell_type": "code",
   "execution_count": 1,
   "id": "92de6086",
   "metadata": {},
   "outputs": [],
   "source": [
    "import pandas as pd\n",
    "import json\n",
    "import __CDS__\n",
    "\n",
    "CDS_list = list(__CDS__.load_CDS().index)\n",
    "\n",
    "data_fldr = \"/l/mesur/aedinge/distortion_polarization/\"\n",
    "\n",
    "with open(data_fldr + \"users_2016_activity.txt\") as f:\n",
    "    users_2016 = json.load(f)\n",
    "    \n",
    "with open(data_fldr + \"users_2020_activity.txt\") as f:\n",
    "    users_2020 = json.load(f)\n",
    "    \n",
    "users_2016 = {int(key):val for key,val in users_2016.items()}\n",
    "users_2020 = {int(key):val for key,val in users_2020.items()}\n",
    "\n",
    "long_users = [user for user in set(users_2016.keys()).intersection(set(users_2020.keys())) if users_2016[user]>10 and users_2020[user]>10]\n",
    "\n",
    "# tweets_2020 = pd.read_csv(data_fldr + \"231109_all_variants_2020.csv\", index_col = \"Unnamed: 0\", lineterminator='\\n')\n",
    "tweets_2016 = pd.read_csv(data_fldr + \"231109_all_variants_2016.csv\", index_col = \"Unnamed: 0\", lineterminator='\\n')"
   ]
  },
  {
   "cell_type": "code",
   "execution_count": 2,
   "id": "740ecd73",
   "metadata": {},
   "outputs": [],
   "source": [
    "rs_16 = pd.DataFrame()\n",
    "rs_16['user_id'] = tweets_2016['user_id']\n",
    "\n",
    "user_cts = pd.DataFrame()\n",
    "user_cts['total'] = pd.Series(users_2016)[long_users]\n",
    "\n",
    "ngrams_16 = tweets_2016[CDS_list].T\n",
    "\n",
    "bs=pd.DataFrame(columns=['CDS_prev'])\n",
    "\n"
   ]
  },
  {
   "cell_type": "code",
   "execution_count": null,
   "id": "b3bbb2ba",
   "metadata": {},
   "outputs": [
    {
     "name": "stdout",
     "output_type": "stream",
     "text": [
      "0\n"
     ]
    }
   ],
   "source": [
    "import timeit\n",
    "start = timeit.default_timer()\n",
    "\n",
    "num_runs = 10000\n",
    "\n",
    "for i in range(num_runs):\n",
    "    rs_16['CDS'] = ngrams_16.sample(n=len(CDS_list), replace=True).sum() != 0\n",
    "    user_cts['CDS'] = rs_16.groupby('user_id').sum()\n",
    "    \n",
    "    bs.loc[i] = (user_cts['CDS']/user_cts['total']).mean()\n",
    "    if i%500 == 0:\n",
    "        print(i)\n",
    "        bs.to_csv(data_fldr + \"231113_bs_16_res.csv\")\n",
    "        \n",
    "bs.to_csv(data_fldr + \"231113_bs_16_res.csv\")\n",
    "    \n",
    "end = timeit.default_timer()\n",
    "print(end - start)"
   ]
  },
  {
   "cell_type": "code",
   "execution_count": 5,
   "id": "134c5ec3",
   "metadata": {},
   "outputs": [],
   "source": [
    "bs.to_csv(data_fldr + \"231113_bs_16_res.csv\")"
   ]
  },
  {
   "cell_type": "code",
   "execution_count": 19,
   "id": "43832ea6",
   "metadata": {},
   "outputs": [
    {
     "data": {
      "text/plain": [
       "12                          NaN\n",
       "17                          NaN\n",
       "22                     0.111111\n",
       "41                          NaN\n",
       "47                          NaN\n",
       "                         ...   \n",
       "1333609050077016066         NaN\n",
       "1333610560999534594         NaN\n",
       "1333615831905865728         NaN\n",
       "1333620092886806529         NaN\n",
       "1333624672068497409         NaN\n",
       "Length: 3005657, dtype: float64"
      ]
     },
     "execution_count": 19,
     "metadata": {},
     "output_type": "execute_result"
    }
   ],
   "source": [
    "cts['CDS'] / pd.Series(users_2020)"
   ]
  },
  {
   "cell_type": "code",
   "execution_count": 14,
   "id": "4c77416e",
   "metadata": {},
   "outputs": [],
   "source": [
    "df['total'] ="
   ]
  },
  {
   "cell_type": "code",
   "execution_count": 27,
   "id": "7eba877a",
   "metadata": {},
   "outputs": [
    {
     "data": {
      "text/plain": [
       "0.17579187839908467"
      ]
     },
     "execution_count": 27,
     "metadata": {},
     "output_type": "execute_result"
    }
   ],
   "source": [
    "(cts['CDS']/pd.Series(users_2020)[long_users]).mean()"
   ]
  },
  {
   "cell_type": "code",
   "execution_count": 24,
   "id": "883d80c6",
   "metadata": {},
   "outputs": [
    {
     "data": {
      "text/plain": [
       "394264593      39\n",
       "22             63\n",
       "241172528      15\n",
       "2400190518    102\n",
       "17825848       13\n",
       "             ... \n",
       "225443793      20\n",
       "77594582       35\n",
       "14680023       61\n",
       "23068646       15\n",
       "390070248      23\n",
       "Length: 97748, dtype: int64"
      ]
     },
     "execution_count": 24,
     "metadata": {},
     "output_type": "execute_result"
    }
   ],
   "source": []
  },
  {
   "cell_type": "code",
   "execution_count": null,
   "id": "13347e56",
   "metadata": {},
   "outputs": [],
   "source": []
  }
 ],
 "metadata": {
  "kernelspec": {
   "display_name": "Python 3",
   "language": "python",
   "name": "python3"
  },
  "language_info": {
   "codemirror_mode": {
    "name": "ipython",
    "version": 3
   },
   "file_extension": ".py",
   "mimetype": "text/x-python",
   "name": "python",
   "nbconvert_exporter": "python",
   "pygments_lexer": "ipython3",
   "version": "3.9.16"
  }
 },
 "nbformat": 4,
 "nbformat_minor": 5
}
