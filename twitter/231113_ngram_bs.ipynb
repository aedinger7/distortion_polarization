{
 "cells": [
  {
   "cell_type": "code",
   "execution_count": 1,
   "id": "6271eaa9",
   "metadata": {},
   "outputs": [],
   "source": [
    "import pandas as pd\n",
    "import json\n",
    "import __CDS__\n",
    "\n",
    "CDS_list = list(__CDS__.load_CDS().index)\n",
    "\n",
    "data_fldr = \"/l/mesur/aedinge/distortion_polarization/\"\n",
    "\n",
    "with open(data_fldr + \"users_2016_activity.txt\") as f:\n",
    "    users_2016 = json.load(f)\n",
    "    \n",
    "with open(data_fldr + \"users_2020_activity.txt\") as f:\n",
    "    users_2020 = json.load(f)\n",
    "    \n",
    "users_2016 = {int(key):val for key,val in users_2016.items()}\n",
    "users_2020 = {int(key):val for key,val in users_2020.items()}\n",
    "\n",
    "long_users = [user for user in set(users_2016.keys()).intersection(set(users_2020.keys())) if users_2016[user]>10 and users_2020[user]>10]\n",
    "\n",
    "tweets_2020 = pd.read_csv(data_fldr + \"231109_all_variants_2020.csv\", index_col = \"Unnamed: 0\", lineterminator='\\n')\n",
    "# tweets_2016 = pd.read_csv(data_fldr + \"231109_all_variants_2016.csv\", index_col = \"Unnamed: 0\", lineterminator='\\n')"
   ]
  },
  {
   "cell_type": "code",
   "execution_count": 24,
   "id": "fdf553b6",
   "metadata": {},
   "outputs": [],
   "source": [
    "rs_20 = pd.DataFrame()\n",
    "rs_20['user_id'] = tweets_2020['user_id']\n",
    "\n",
    "user_cts = pd.DataFrame()\n",
    "user_cts['total'] = pd.Series(users_2020)[long_users]\n",
    "\n",
    "ngrams_20 = tweets_2020[CDS_list].T\n",
    "\n",
    "bs=pd.DataFrame(columns=['CDS_prev'])\n",
    "\n"
   ]
  },
  {
   "cell_type": "code",
   "execution_count": null,
   "id": "2c1e0d8d",
   "metadata": {},
   "outputs": [],
   "source": [
    "import multiprocessing\n",
    "import timeit\n",
    "start = timeit.default_timer()\n",
    "\n",
    "pool = multiprocessing.Pool(16)\n",
    "hi_ent_2, lo_ent_2, hi_tweets, lo_tweets = zip(*pool.map(null_bs, range(0, 10000)))\n",
    "\n"
   ]
  },
  {
   "cell_type": "code",
   "execution_count": 29,
   "id": "5aded45e",
   "metadata": {},
   "outputs": [
    {
     "name": "stdout",
     "output_type": "stream",
     "text": [
      "0\n",
      "500\n",
      "1000\n",
      "1500\n",
      "2000\n",
      "2500\n",
      "3000\n",
      "3500\n",
      "4000\n",
      "4500\n",
      "5000\n",
      "5500\n",
      "6000\n",
      "6500\n",
      "7000\n",
      "7500\n",
      "8000\n",
      "8500\n",
      "9000\n",
      "9500\n",
      "48015.13251841441\n"
     ]
    }
   ],
   "source": [
    "import timeit\n",
    "start = timeit.default_timer()\n",
    "\n",
    "num_runs = 10000\n",
    "\n",
    "for i in range(num_runs):\n",
    "    rs_20['CDS'] = ngrams_20.sample(n=len(CDS_list), replace=True).sum() != 0\n",
    "    user_cts['CDS'] = rs_20.groupby('user_id').sum()\n",
    "    \n",
    "    bs.loc[i] = (user_cts['CDS']/user_cts['total']).mean()\n",
    "    if i%500 == 0:\n",
    "        print(i)\n",
    "        bs.to_csv(data_fldr + \"231113_bs_20_res.csv\")\n",
    "\n",
    "    \n",
    "end = timeit.default_timer()\n",
    "print(end - start)"
   ]
  },
  {
   "cell_type": "code",
   "execution_count": 30,
   "id": "da625c5f",
   "metadata": {},
   "outputs": [],
   "source": [
    "bs.to_csv(data_fldr + \"231113_bs_20_res.csv\")\n"
   ]
  },
  {
   "cell_type": "code",
   "execution_count": 36,
   "id": "e3cbf468",
   "metadata": {},
   "outputs": [],
   "source": [
    "bs_20 = pd.read_csv(data_fldr + \"231113_bs_20_res.csv\", index_col = \"Unnamed: 0\")\n",
    "bs_16 = pd.read_csv(data_fldr + \"231113_bs_16_res.csv\", index_col = \"Unnamed: 0\")"
   ]
  },
  {
   "cell_type": "code",
   "execution_count": 46,
   "id": "b9cac565",
   "metadata": {},
   "outputs": [
    {
     "data": {
      "text/plain": [
       "<matplotlib.lines.Line2D at 0x7f2304f4fee0>"
      ]
     },
     "execution_count": 46,
     "metadata": {},
     "output_type": "execute_result"
    },
    {
     "data": {
      "image/png": "[encoded data removed]",
      "text/plain": [
       "<Figure size 640x480 with 1 Axes>"
      ]
     },
     "metadata": {},
     "output_type": "display_data"
    }
   ],
   "source": [
    "import matplotlib.pyplot as plt\n",
    "\n",
    "pr = bs_20/bs_16\n",
    "\n",
    "fig1, ax1 = plt.subplots()\n",
    "\n",
    "ax1.boxplot(pr, vert=False, showfliers=False, whis=(2.5,97.5))\n",
    "\n",
    "# ax1.set_xlim([0.8,2.8])\n",
    "\n",
    "plt.xlabel(\"Prevalence Ratio (2020:2016)\")\n",
    "plt.title(\"Bootstrapped Between-subject PRs\")\n",
    "plt.axvline(1, color='r')"
   ]
  },
  {
   "cell_type": "code",
   "execution_count": 44,
   "id": "d57ba1b9",
   "metadata": {},
   "outputs": [
    {
     "data": {
      "text/plain": [
       "CDS_prev    0.483871\n",
       "dtype: float64"
      ]
     },
     "execution_count": 44,
     "metadata": {},
     "output_type": "execute_result"
    }
   ],
   "source": [
    "(bs_20/bs_16).min()"
   ]
  },
  {
   "cell_type": "code",
   "execution_count": null,
   "id": "9eb796b3",
   "metadata": {},
   "outputs": [],
   "source": []
  }
 ],
 "metadata": {
  "kernelspec": {
   "display_name": "Python 3",
   "language": "python",
   "name": "python3"
  },
  "language_info": {
   "codemirror_mode": {
    "name": "ipython",
    "version": 3
   },
   "file_extension": ".py",
   "mimetype": "text/x-python",
   "name": "python",
   "nbconvert_exporter": "python",
   "pygments_lexer": "ipython3",
   "version": "3.9.16"
  }
 },
 "nbformat": 4,
 "nbformat_minor": 5
}
