{
 "cells": [
  {
   "cell_type": "code",
   "execution_count": 1,
   "id": "96c7c76b",
   "metadata": {},
   "outputs": [],
   "source": [
    "import pandas as pd\n",
    "import json\n",
    "import __CDS__\n",
    "\n",
    "data_fldr = \"/l/mesur/aedinge/distortion_polarization/\"\n",
    "\n",
    "with open(data_fldr + \"users_2016_activity.txt\") as f:\n",
    "    users_2016 = json.load(f)\n",
    "    \n",
    "with open(data_fldr + \"users_2020_activity.txt\") as f:\n",
    "    users_2020 = json.load(f)\n",
    "    \n",
    "users_2016 = {int(key):val for key,val in users_2016.items()}\n",
    "users_2020 = {int(key):val for key,val in users_2020.items()}\n",
    "\n",
    "long_users = [user for user in set(users_2016.keys()).intersection(set(users_2020.keys())) if users_2016[user]>10 and users_2020[user]>10]\n",
    "\n",
    "tweets_2020 = pd.read_csv(data_fldr + \"231109_all_variants_2020.csv\", index_col = \"Unnamed: 0\", lineterminator='\\n')\n",
    "tweets_2016 = pd.read_csv(data_fldr + \"231109_all_variants_2016.csv\", index_col = \"Unnamed: 0\", lineterminator='\\n')"
   ]
  },
  {
   "cell_type": "code",
   "execution_count": 2,
   "id": "e4d303ec",
   "metadata": {},
   "outputs": [
    {
     "data": {
      "text/plain": [
       "11852917"
      ]
     },
     "execution_count": 2,
     "metadata": {},
     "output_type": "execute_result"
    }
   ],
   "source": [
    "sum([users_2020[key] for key in long_users])"
   ]
  },
  {
   "cell_type": "code",
   "execution_count": 3,
   "id": "c0040396",
   "metadata": {},
   "outputs": [
    {
     "data": {
      "text/plain": [
       "13376733"
      ]
     },
     "execution_count": 3,
     "metadata": {},
     "output_type": "execute_result"
    }
   ],
   "source": [
    "sum([users_2016[key] for key in long_users])"
   ]
  },
  {
   "cell_type": "code",
   "execution_count": 4,
   "id": "ad070703",
   "metadata": {},
   "outputs": [],
   "source": [
    "user_ct_2020 = tweets_2020.groupby('user_id').sum()\n",
    "user_ct_2016 = tweets_2016.groupby('user_id').sum()\n"
   ]
  },
  {
   "cell_type": "code",
   "execution_count": 5,
   "id": "d3d55401",
   "metadata": {},
   "outputs": [],
   "source": [
    "user_ct_2020['total_tweets'] = pd.Series(users_2020)\n",
    "user_ct_2016['total_tweets'] = pd.Series(users_2016)"
   ]
  },
  {
   "cell_type": "code",
   "execution_count": 6,
   "id": "447ac502",
   "metadata": {},
   "outputs": [],
   "source": [
    "cols = ['CDS', 'Labeling and mislabeling', 'Catastrophizing',\n",
    "       'Dichotomous Reasoning', 'Emotional Reasoning',\n",
    "       'Disqualifying the Positive', 'Magnification and Minimization',\n",
    "       'Mental Filtering', 'Mindreading', 'Fortune-telling',\n",
    "       'Overgeneralizing', 'Personalizing', 'Should statements', 'total_tweets']"
   ]
  },
  {
   "cell_type": "code",
   "execution_count": 20,
   "id": "9c011064",
   "metadata": {},
   "outputs": [
    {
     "name": "stdout",
     "output_type": "stream",
     "text": [
      "CDS 2311825 (17.282) & 2973513 (25.09) & \n",
      "Labeling and mislabeling 210160 (1.571) & 246603 (2.08) & \n",
      "Catastrophizing 7954 (0.059) & 12443 (0.1) & \n",
      "Dichotomous Reasoning 1486776 (11.115) & 2066595 (17.44) & \n",
      "Emotional Reasoning 472 (0.004) & 987 (0.01) & \n",
      "Disqualifying the Positive 8136 (0.061) & 10756 (0.09) & \n",
      "Magnification and Minimization 146609 (1.096) & 190099 (1.6) & \n",
      "Mental Filtering 1639 (0.012) & 2068 (0.02) & \n",
      "Mindreading 158970 (1.188) & 240695 (2.03) & \n",
      "Fortune-telling 49724 (0.372) & 61884 (0.52) & \n",
      "Overgeneralizing 34812 (0.26) & 61132 (0.52) & \n",
      "Personalizing 13774 (0.103) & 20297 (0.17) & \n",
      "Should statements 498935 (3.73) & 652223 (5.5) & \n",
      "total_tweets 13376733 (100.0) & 11852917 (100.0) & \n"
     ]
    }
   ],
   "source": [
    "\n",
    "for col in cols:\n",
    "    n16 = user_ct_2016[col].sum()\n",
    "    p16 = user_ct_2016[col].sum()/user_ct_2016['total_tweets'].sum()*100\n",
    "    n20 = user_ct_2020[col].sum()\n",
    "    p20 = user_ct_2020[col].sum()/user_ct_2020['total_tweets'].sum()*100\n",
    "    print(col, f\"{n16} ({round(p16, 3)}) & {n20} ({round(p20, 2)}) & \")\n"
   ]
  },
  {
   "cell_type": "code",
   "execution_count": 10,
   "id": "b441667b-e9aa-4d9b-b7dc-c501c08f76d2",
   "metadata": {},
   "outputs": [
    {
     "data": {
      "text/plain": [
       "CDS                                2311825\n",
       "Labeling and mislabeling            210160\n",
       "Catastrophizing                       7954\n",
       "Dichotomous Reasoning              1486776\n",
       "Emotional Reasoning                    472\n",
       "Disqualifying the Positive            8136\n",
       "Magnification and Minimization      146609\n",
       "Mental Filtering                      1639\n",
       "Mindreading                         158970\n",
       "Fortune-telling                      49724\n",
       "Overgeneralizing                     34812\n",
       "Personalizing                        13774\n",
       "Should statements                   498935\n",
       "total_tweets                      13376733\n",
       "dtype: int64"
      ]
     },
     "execution_count": 10,
     "metadata": {},
     "output_type": "execute_result"
    }
   ],
   "source": [
    "user_ct_2016[cols].sum()"
   ]
  },
  {
   "cell_type": "code",
   "execution_count": 14,
   "id": "6464d4ab",
   "metadata": {},
   "outputs": [],
   "source": [
    "import numpy as np\n",
    "\n",
    "rs = np.random.default_rng(seed=19880205)\n",
    "num_runs = 1000\n",
    "\n",
    "\n",
    "def bootstrap_sample(df, rs, num_runs):\n",
    "    bootstrap = pd.DataFrame(index=pd.Index(np.arange(1, num_runs + 1), name=\"num_runs\"), columns=pd.Index(np.arange(1, df.index.size + 1)))\n",
    "    for i in range(1, num_runs + 1):\n",
    "        bootstrap.loc[i, :] = df.sample(n=df.index.size, random_state=rs, replace=True).sum()\n",
    "\n",
    "    return bootstrap\n",
    "\n"
   ]
  },
  {
   "cell_type": "code",
   "execution_count": 15,
   "id": "9cf8ed4f",
   "metadata": {},
   "outputs": [],
   "source": [
    "# cols = \n",
    "bs_client = bootstrap_sample(user_ct_2020, rs=rs, num_runs=10)"
   ]
  },
  {
   "cell_type": "code",
   "execution_count": 97,
   "id": "560d05f6",
   "metadata": {
    "scrolled": true
   },
   "outputs": [
    {
     "data": {
      "text/plain": [
       "11852917"
      ]
     },
     "execution_count": 97,
     "metadata": {},
     "output_type": "execute_result"
    }
   ],
   "source": [
    "user_ct_2020['total_tweets'].sum()"
   ]
  },
  {
   "cell_type": "code",
   "execution_count": 98,
   "id": "01577825",
   "metadata": {},
   "outputs": [
    {
     "data": {
      "text/plain": [
       "13376733"
      ]
     },
     "execution_count": 98,
     "metadata": {},
     "output_type": "execute_result"
    }
   ],
   "source": [
    "user_ct_2016['total_tweets'].sum()"
   ]
  },
  {
   "cell_type": "markdown",
   "id": "99f7342b",
   "metadata": {},
   "source": [
    "## Between-Cohort"
   ]
  },
  {
   "cell_type": "code",
   "execution_count": 78,
   "id": "7a2a133a",
   "metadata": {},
   "outputs": [
    {
     "name": "stdout",
     "output_type": "stream",
     "text": [
      "0\n",
      "50\n",
      "100\n",
      "150\n",
      "200\n",
      "250\n",
      "300\n",
      "350\n",
      "400\n",
      "450\n",
      "500\n",
      "550\n",
      "600\n",
      "650\n",
      "700\n",
      "750\n",
      "800\n",
      "850\n",
      "900\n",
      "950\n",
      "1000\n",
      "1050\n",
      "1100\n",
      "1150\n",
      "1200\n",
      "1250\n",
      "1300\n",
      "1350\n",
      "1400\n",
      "1450\n",
      "1500\n",
      "1550\n",
      "1600\n",
      "1650\n",
      "1700\n",
      "1750\n",
      "1800\n",
      "1850\n",
      "1900\n",
      "1950\n",
      "2000\n",
      "2050\n",
      "2100\n",
      "2150\n",
      "2200\n",
      "2250\n",
      "2300\n",
      "2350\n",
      "2400\n",
      "2450\n",
      "2500\n",
      "2550\n",
      "2600\n",
      "2650\n",
      "2700\n",
      "2750\n",
      "2800\n",
      "2850\n",
      "2900\n",
      "2950\n",
      "3000\n",
      "3050\n",
      "3100\n",
      "3150\n",
      "3200\n",
      "3250\n",
      "3300\n",
      "3350\n",
      "3400\n",
      "3450\n",
      "3500\n",
      "3550\n",
      "3600\n",
      "3650\n",
      "3700\n",
      "3750\n",
      "3800\n",
      "3850\n",
      "3900\n",
      "3950\n",
      "4000\n",
      "4050\n",
      "4100\n",
      "4150\n",
      "4200\n",
      "4250\n",
      "4300\n",
      "4350\n",
      "4400\n",
      "4450\n",
      "4500\n",
      "4550\n",
      "4600\n",
      "4650\n",
      "4700\n",
      "4750\n",
      "4800\n",
      "4850\n",
      "4900\n",
      "4950\n",
      "5000\n",
      "5050\n",
      "5100\n",
      "5150\n",
      "5200\n",
      "5250\n",
      "5300\n",
      "5350\n",
      "5400\n",
      "5450\n",
      "5500\n",
      "5550\n",
      "5600\n",
      "5650\n",
      "5700\n",
      "5750\n",
      "5800\n",
      "5850\n",
      "5900\n",
      "5950\n",
      "6000\n",
      "6050\n",
      "6100\n",
      "6150\n",
      "6200\n",
      "6250\n",
      "6300\n",
      "6350\n",
      "6400\n",
      "6450\n",
      "6500\n",
      "6550\n",
      "6600\n",
      "6650\n",
      "6700\n",
      "6750\n",
      "6800\n",
      "6850\n",
      "6900\n",
      "6950\n",
      "7000\n",
      "7050\n",
      "7100\n",
      "7150\n",
      "7200\n",
      "7250\n",
      "7300\n",
      "7350\n",
      "7400\n",
      "7450\n",
      "7500\n",
      "7550\n",
      "7600\n",
      "7650\n",
      "7700\n",
      "7750\n",
      "7800\n",
      "7850\n",
      "7900\n",
      "7950\n",
      "8000\n",
      "8050\n",
      "8100\n",
      "8150\n",
      "8200\n",
      "8250\n",
      "8300\n",
      "8350\n",
      "8400\n",
      "8450\n",
      "8500\n",
      "8550\n",
      "8600\n",
      "8650\n",
      "8700\n",
      "8750\n",
      "8800\n",
      "8850\n",
      "8900\n",
      "8950\n",
      "9000\n",
      "9050\n",
      "9100\n",
      "9150\n",
      "9200\n",
      "9250\n",
      "9300\n",
      "9350\n",
      "9400\n",
      "9450\n",
      "9500\n",
      "9550\n",
      "9600\n",
      "9650\n",
      "9700\n",
      "9750\n",
      "9800\n",
      "9850\n",
      "9900\n",
      "9950\n"
     ]
    }
   ],
   "source": [
    "num_runs = 10000\n",
    "\n",
    "bootstrap_20 = pd.DataFrame(columns=cols)\n",
    "bootstrap_16 = pd.DataFrame(columns=cols)\n",
    "\n",
    "for i in range(num_runs):\n",
    "    if(i%50)==0:\n",
    "        print(i)\n",
    "    \n",
    "    bootstrap_20.loc[i, :] = user_ct_2020[cols].sample(n=user_ct_2020.index.size, random_state=rs, replace=True).sum()\n",
    "    bootstrap_16.loc[i, :] = user_ct_2016[cols].sample(n=user_ct_2016.index.size, random_state=rs, replace=True).sum()\n",
    "\n",
    "\n"
   ]
  },
  {
   "cell_type": "code",
   "execution_count": 106,
   "id": "8f9b555e",
   "metadata": {},
   "outputs": [],
   "source": [
    "pr_cols = ['CDS', 'Labeling and mislabeling', 'Catastrophizing', 'Dichotomous Reasoning', 'Emotional Reasoning',\n",
    "       'Disqualifying the Positive', 'Magnification and Minimization',\n",
    "       'Mental Filtering', 'Mindreading', 'Fortune-telling',\n",
    "       'Overgeneralizing', 'Personalizing', 'Should statements']\n",
    "\n",
    "prs = (bootstrap_20[pr_cols].div(bootstrap_20[\"total_tweets\"], axis=\"index\"))/(bootstrap_16[pr_cols].div(bootstrap_16[\"total_tweets\"], axis=\"index\"))"
   ]
  },
  {
   "cell_type": "code",
   "execution_count": 107,
   "id": "40938ff6",
   "metadata": {},
   "outputs": [],
   "source": [
    "#prevalence ratios\n",
    "\n",
    "meds = prs.median()\n",
    "meds.sort_values(ascending=False, inplace=True)\n",
    "prs = prs[meds.index]"
   ]
  },
  {
   "cell_type": "code",
   "execution_count": 110,
   "id": "d7e7f10b",
   "metadata": {
    "collapsed": true,
    "jupyter": {
     "outputs_hidden": true
    }
   },
   "outputs": [
    {
     "data": {
      "text/plain": [
       "Text(0.5, 1.0, 'Between-cohort PRs (2020/2016)')"
      ]
     },
     "execution_count": 110,
     "metadata": {},
     "output_type": "execute_result"
    },
    {
     "data": {
      "image/png": "[encoded data removed]",
      "text/plain": [
       "<Figure size 640x480 with 1 Axes>"
      ]
     },
     "metadata": {},
     "output_type": "display_data"
    }
   ],
   "source": [
    "import matplotlib.pyplot as plt\n",
    "\n",
    "fig1, ax1 = plt.subplots()\n",
    "\n",
    "ax1.boxplot(prs, vert=False, showfliers=False, whis=(2.5,97.5))\n",
    "\n",
    "ax1.set_yticklabels(pr_cols)\n",
    "ax1.set_xlim([0.8,3])\n",
    "\n",
    "plt.axvline(1, color='r')\n",
    "plt.title(\"Between-cohort PRs (2020/2016)\")"
   ]
  },
  {
   "cell_type": "markdown",
   "id": "092f496e",
   "metadata": {},
   "source": [
    "# Between-individual"
   ]
  },
  {
   "cell_type": "code",
   "execution_count": null,
   "id": "66565be0",
   "metadata": {},
   "outputs": [],
   "source": [
    "pr_cols = ['CDS', 'Labeling and mislabeling', 'Catastrophizing', 'Dichotomous Reasoning', 'Emotional Reasoning',\n",
    "       'Disqualifying the Positive', 'Magnification and Minimization',\n",
    "       'Mental Filtering', 'Mindreading', 'Fortune-telling',\n",
    "       'Overgeneralizing', 'Personalizing', 'Should statements']\n",
    "\n",
    "user_ct_2020[pr_cols] = (user_ct_2020[pr_cols].div(user_ct_2020[\"total_tweets\"], axis=\"index\"))\n",
    "user_ct_2016[pr_cols] = (user_ct_2016[pr_cols].div(user_ct_2016[\"total_tweets\"], axis=\"index\"))"
   ]
  },
  {
   "cell_type": "code",
   "execution_count": 2,
   "id": "8db037ef",
   "metadata": {},
   "outputs": [
    {
     "ename": "NameError",
     "evalue": "name 'user_ct_2020' is not defined",
     "output_type": "error",
     "traceback": [
      "\u001b[0;31m---------------------------------------------------------------------------\u001b[0m",
      "\u001b[0;31mNameError\u001b[0m                                 Traceback (most recent call last)",
      "Cell \u001b[0;32mIn[2], line 1\u001b[0m\n\u001b[0;32m----> 1\u001b[0m \u001b[43muser_ct_2020\u001b[49m\n",
      "\u001b[0;31mNameError\u001b[0m: name 'user_ct_2020' is not defined"
     ]
    }
   ],
   "source": [
    "user_ct_2020"
   ]
  },
  {
   "cell_type": "code",
   "execution_count": 144,
   "id": "47a5f25d",
   "metadata": {
    "scrolled": true
   },
   "outputs": [
    {
     "name": "stdout",
     "output_type": "stream",
     "text": [
      "0\n",
      "100\n",
      "200\n",
      "300\n",
      "400\n",
      "500\n",
      "600\n",
      "700\n",
      "800\n",
      "900\n",
      "1000\n",
      "1100\n",
      "1200\n",
      "1300\n",
      "1400\n",
      "1500\n",
      "1600\n",
      "1700\n",
      "1800\n",
      "1900\n",
      "2000\n",
      "2100\n",
      "2200\n",
      "2300\n",
      "2400\n",
      "2500\n",
      "2600\n",
      "2700\n",
      "2800\n",
      "2900\n",
      "3000\n",
      "3100\n",
      "3200\n",
      "3300\n",
      "3400\n",
      "3500\n",
      "3600\n",
      "3700\n",
      "3800\n",
      "3900\n",
      "4000\n",
      "4100\n",
      "4200\n",
      "4300\n",
      "4400\n",
      "4500\n",
      "4600\n",
      "4700\n",
      "4800\n",
      "4900\n",
      "5000\n",
      "5100\n",
      "5200\n",
      "5300\n",
      "5400\n",
      "5500\n",
      "5600\n",
      "5700\n",
      "5800\n",
      "5900\n",
      "6000\n",
      "6100\n",
      "6200\n",
      "6300\n",
      "6400\n",
      "6500\n",
      "6600\n",
      "6700\n",
      "6800\n",
      "6900\n",
      "7000\n",
      "7100\n",
      "7200\n",
      "7300\n",
      "7400\n",
      "7500\n",
      "7600\n",
      "7700\n",
      "7800\n",
      "7900\n",
      "8000\n",
      "8100\n",
      "8200\n",
      "8300\n",
      "8400\n",
      "8500\n",
      "8600\n",
      "8700\n",
      "8800\n",
      "8900\n",
      "9000\n",
      "9100\n",
      "9200\n",
      "9300\n",
      "9400\n",
      "9500\n",
      "9600\n",
      "9700\n",
      "9800\n",
      "9900\n"
     ]
    }
   ],
   "source": [
    "num_runs = 10000\n",
    "\n",
    "bootstrap_w_20 = pd.DataFrame(columns=pr_cols)\n",
    "bootstrap_w_16 = pd.DataFrame(columns=pr_cols)\n",
    "\n",
    "for i in range(num_runs):\n",
    "    \n",
    "    if(i%100)==0:\n",
    "        print(i)\n",
    "    \n",
    "    bootstrap_w_20.loc[i, :] = user_ct_2020.sample(n=user_ct_2020.index.size, random_state=rs, replace=True)[pr_cols].mean()\n",
    "    bootstrap_w_16.loc[i, :] = user_ct_2016.sample(n=user_ct_2016.index.size, random_state=rs, replace=True)[pr_cols].mean()\n"
   ]
  },
  {
   "cell_type": "code",
   "execution_count": 213,
   "id": "87c50ab9",
   "metadata": {},
   "outputs": [],
   "source": [
    "bootstrap_w_20.to_csv(data_fldr + \"231110_users_20_bs.csv\")\n",
    "bootstrap_w_16.to_csv(data_fldr + \"231110_users_16_bs.csv\")"
   ]
  },
  {
   "cell_type": "code",
   "execution_count": 170,
   "id": "c2a0c882",
   "metadata": {},
   "outputs": [],
   "source": [
    "#prevalence ratios\n",
    "for col in pr_cols:\n",
    "    prs[col] = (bootstrap_w_20[col]/bootstrap_w_16[col])\n",
    "\n",
    "meds = prs.median()\n",
    "meds.sort_values(ascending=True, inplace=True)\n",
    "prs = prs[meds.index]"
   ]
  },
  {
   "cell_type": "code",
   "execution_count": 171,
   "id": "7a512de2",
   "metadata": {},
   "outputs": [
    {
     "data": {
      "text/plain": [
       "<matplotlib.lines.Line2D at 0x7f31bad3db80>"
      ]
     },
     "execution_count": 171,
     "metadata": {},
     "output_type": "execute_result"
    },
    {
     "data": {
      "image/png": "[encoded data removed]",
      "text/plain": [
       "<Figure size 640x480 with 1 Axes>"
      ]
     },
     "metadata": {},
     "output_type": "display_data"
    }
   ],
   "source": [
    "import matplotlib.pyplot as plt\n",
    "\n",
    "fig1, ax1 = plt.subplots()\n",
    "\n",
    "ax1.boxplot(prs, vert=False, showfliers=False, whis=(2.5,97.5))\n",
    "\n",
    "ax1.set_yticklabels(prs.columns)\n",
    "ax1.set_xlim([0.8,2.8])\n",
    "\n",
    "plt.xlabel(\"Prevalence Ratio (2020:2016)\")\n",
    "plt.title(\"Bootstrapped Between-subject PRs\")\n",
    "plt.axvline(1, color='r')"
   ]
  }
 ],
 "metadata": {
  "kernelspec": {
   "display_name": "Python 3",
   "language": "python",
   "name": "python3"
  },
  "language_info": {
   "codemirror_mode": {
    "name": "ipython",
    "version": 3
   },
   "file_extension": ".py",
   "mimetype": "text/x-python",
   "name": "python",
   "nbconvert_exporter": "python",
   "pygments_lexer": "ipython3",
   "version": "3.11.9"
  }
 },
 "nbformat": 4,
 "nbformat_minor": 5
}
