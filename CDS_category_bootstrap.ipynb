{
 "cells": [
  {
   "cell_type": "markdown",
   "id": "2a8b1227-ea4a-4152-a433-c741e7d8c7af",
   "metadata": {},
   "source": [
    "---\n",
    "\n",
    "**Andy Edinger**   \n",
    "**Date:** October 10, 2024  \n",
    "**Email:** [aedinge@iu.edu](mailto:aedinge@iu.edu)\n",
    "\n",
    "---\n",
    "This notebook contains the analysis for: \"Cognitive distortions in political polarization\" by Andy Edinger, Johan Bollena, Hernán A. Makse, and Matteo Serafino.\n",
    "---\n",
    "\n",
    "#### Bootstrapped CDS Prevalence - Fig. 2\n",
    "\n",
    "Bootstrapped prevalence ratios over all tweets by each cohort, separated by CDS n-gram type. This analysis requires 2 large (\"231109_all_variants_2016.csv\", \"231109_all_variants_2020.csv\") files of CDS category breakdown over all tweets that is not included in the git repo due to file size. These 2 intermediate files can be produced from raw data in the \"cds_prevalence.ipynb\" notebook, with raw data available upon request."
   ]
  },
  {
   "cell_type": "code",
   "execution_count": 14,
   "id": "03c6cfcd-5753-4ead-a10c-c0716f6333e5",
   "metadata": {},
   "outputs": [],
   "source": [
    "import pandas as pd\n",
    "import json\n",
    "import __CDS__\n",
    "import matplotlib.pyplot as plt\n",
    "\n",
    "data_fldr = \"raw_data\"\n"
   ]
  },
  {
   "cell_type": "markdown",
   "id": "e68deccf-3ce9-4596-b4ff-cf1c82da7bad",
   "metadata": {},
   "source": [
    "Read in raw user data and CDS counts"
   ]
  },
  {
   "cell_type": "code",
   "execution_count": 13,
   "id": "96c7c76b",
   "metadata": {},
   "outputs": [],
   "source": [
    "with open(data_fldr + \"users_2016_activity.txt\") as f:\n",
    "    users_2016 = json.load(f)\n",
    "    \n",
    "with open(data_fldr + \"users_2020_activity.txt\") as f:\n",
    "    users_2020 = json.load(f)\n",
    "\n",
    "users_2016 = {int(key):val for key,val in users_2016.items()}\n",
    "users_2020 = {int(key):val for key,val in users_2020.items()}\n",
    "\n",
    "# include only users with >10 tweets in both 2016 and 2020\n",
    "long_users = [user for user in set(users_2016.keys()).intersection(set(users_2020.keys())) if users_2016[user]>10 and users_2020[user]>10]\n",
    "\n",
    "# per-tweet CDS analysis\n",
    "tweets_2020 = pd.read_csv(data_fldr + \"231109_all_variants_2020.csv\", index_col = \"Unnamed: 0\", lineterminator='\\n')\n",
    "tweets_2016 = pd.read_csv(data_fldr + \"231109_all_variants_2016.csv\", index_col = \"Unnamed: 0\", lineterminator='\\n')\n",
    "\n",
    "# Get counts of each CDS type for each user\n",
    "user_ct_2020 = tweets_2020.groupby('user_id').sum()\n",
    "user_ct_2016 = tweets_2016.groupby('user_id').sum()\n",
    "\n",
    "# Get total tweets for each user\n",
    "user_ct_2020['total_tweets'] = pd.Series(users_2020)\n",
    "user_ct_2016['total_tweets'] = pd.Series(users_2016)"
   ]
  },
  {
   "cell_type": "code",
   "execution_count": null,
   "id": "822e05ce-9c15-4408-a919-d0e4a1adbab5",
   "metadata": {},
   "outputs": [],
   "source": [
    "tweets_2020"
   ]
  },
  {
   "cell_type": "markdown",
   "id": "12efab5b-7c88-4056-aba7-8c97fe0b6bfa",
   "metadata": {},
   "source": [
    "Data summarizations for manuscript:"
   ]
  },
  {
   "cell_type": "code",
   "execution_count": 20,
   "id": "9c011064",
   "metadata": {},
   "outputs": [
    {
     "name": "stdout",
     "output_type": "stream",
     "text": [
      "CDS 2311825 (17.282) & 2973513 (25.09) & \n",
      "Labeling and mislabeling 210160 (1.571) & 246603 (2.08) & \n",
      "Catastrophizing 7954 (0.059) & 12443 (0.1) & \n",
      "Dichotomous Reasoning 1486776 (11.115) & 2066595 (17.44) & \n",
      "Emotional Reasoning 472 (0.004) & 987 (0.01) & \n",
      "Disqualifying the Positive 8136 (0.061) & 10756 (0.09) & \n",
      "Magnification and Minimization 146609 (1.096) & 190099 (1.6) & \n",
      "Mental Filtering 1639 (0.012) & 2068 (0.02) & \n",
      "Mindreading 158970 (1.188) & 240695 (2.03) & \n",
      "Fortune-telling 49724 (0.372) & 61884 (0.52) & \n",
      "Overgeneralizing 34812 (0.26) & 61132 (0.52) & \n",
      "Personalizing 13774 (0.103) & 20297 (0.17) & \n",
      "Should statements 498935 (3.73) & 652223 (5.5) & \n",
      "total_tweets 13376733 (100.0) & 11852917 (100.0) & \n"
     ]
    }
   ],
   "source": [
    "# count tweets for users that meet inclusions criteria for both 2016 and 2020\n",
    "print(\"2016 tweets: \", sum([users_2016[key] for key in long_users]))\n",
    "print(\"2020 tweets: \", sum([users_2020[key] for key in long_users]))\n",
    "\n",
    "# CDS types\n",
    "cols = ['CDS', 'Labeling and mislabeling', 'Catastrophizing',\n",
    "       'Dichotomous Reasoning', 'Emotional Reasoning',\n",
    "       'Disqualifying the Positive', 'Magnification and Minimization',\n",
    "       'Mental Filtering', 'Mindreading', 'Fortune-telling',\n",
    "       'Overgeneralizing', 'Personalizing', 'Should statements', 'total_tweets']\n",
    "\n",
    "# print CDS types, frequencies, and prevalence with output formatting for latex\n",
    "for col in cols:\n",
    "    n16 = user_ct_2016[col].sum()\n",
    "    p16 = user_ct_2016[col].sum()/user_ct_2016['total_tweets'].sum()*100\n",
    "    n20 = user_ct_2020[col].sum()\n",
    "    p20 = user_ct_2020[col].sum()/user_ct_2020['total_tweets'].sum()*100\n",
    "    print(col, f\"& {n16} ({round(p16, 3)}) & {n20} ({round(p20, 2)}) & \")\n"
   ]
  },
  {
   "cell_type": "markdown",
   "id": "ea4357bd-26fd-4535-bb92-650f42245c1d",
   "metadata": {},
   "source": [
    "# Bootstrap resampling:"
   ]
  },
  {
   "cell_type": "code",
   "execution_count": null,
   "id": "66565be0",
   "metadata": {},
   "outputs": [],
   "source": [
    "pr_cols = ['CDS', 'Labeling and mislabeling', 'Catastrophizing', 'Dichotomous Reasoning', 'Emotional Reasoning',\n",
    "       'Disqualifying the Positive', 'Magnification and Minimization',\n",
    "       'Mental Filtering', 'Mindreading', 'Fortune-telling',\n",
    "       'Overgeneralizing', 'Personalizing', 'Should statements']\n",
    "\n",
    "user_ct_2020[pr_cols] = (user_ct_2020[pr_cols].div(user_ct_2020[\"total_tweets\"], axis=\"index\"))\n",
    "user_ct_2016[pr_cols] = (user_ct_2016[pr_cols].div(user_ct_2016[\"total_tweets\"], axis=\"index\"))"
   ]
  },
  {
   "cell_type": "markdown",
   "id": "e6083233-fb48-4ed9-bac4-472c45f5a738",
   "metadata": {},
   "source": [
    "Run and save 10k bootstrap resamples of users"
   ]
  },
  {
   "cell_type": "code",
   "execution_count": 144,
   "id": "47a5f25d",
   "metadata": {
    "scrolled": true
   },
   "outputs": [
    {
     "name": "stdout",
     "output_type": "stream",
     "text": [
      "0\n",
      "100\n",
      "200\n",
      "300\n",
      "400\n",
      "500\n",
      "600\n",
      "700\n",
      "800\n",
      "900\n",
      "1000\n",
      "1100\n",
      "1200\n",
      "1300\n",
      "1400\n",
      "1500\n",
      "1600\n",
      "1700\n",
      "1800\n",
      "1900\n",
      "2000\n",
      "2100\n",
      "2200\n",
      "2300\n",
      "2400\n",
      "2500\n",
      "2600\n",
      "2700\n",
      "2800\n",
      "2900\n",
      "3000\n",
      "3100\n",
      "3200\n",
      "3300\n",
      "3400\n",
      "3500\n",
      "3600\n",
      "3700\n",
      "3800\n",
      "3900\n",
      "4000\n",
      "4100\n",
      "4200\n",
      "4300\n",
      "4400\n",
      "4500\n",
      "4600\n",
      "4700\n",
      "4800\n",
      "4900\n",
      "5000\n",
      "5100\n",
      "5200\n",
      "5300\n",
      "5400\n",
      "5500\n",
      "5600\n",
      "5700\n",
      "5800\n",
      "5900\n",
      "6000\n",
      "6100\n",
      "6200\n",
      "6300\n",
      "6400\n",
      "6500\n",
      "6600\n",
      "6700\n",
      "6800\n",
      "6900\n",
      "7000\n",
      "7100\n",
      "7200\n",
      "7300\n",
      "7400\n",
      "7500\n",
      "7600\n",
      "7700\n",
      "7800\n",
      "7900\n",
      "8000\n",
      "8100\n",
      "8200\n",
      "8300\n",
      "8400\n",
      "8500\n",
      "8600\n",
      "8700\n",
      "8800\n",
      "8900\n",
      "9000\n",
      "9100\n",
      "9200\n",
      "9300\n",
      "9400\n",
      "9500\n",
      "9600\n",
      "9700\n",
      "9800\n",
      "9900\n"
     ]
    }
   ],
   "source": [
    "num_runs = 10000\n",
    "\n",
    "bootstrap_w_20 = pd.DataFrame(columns=pr_cols)\n",
    "bootstrap_w_16 = pd.DataFrame(columns=pr_cols)\n",
    "\n",
    "for i in range(num_runs):\n",
    "    \n",
    "    if(i%100)==0:\n",
    "        print(i)\n",
    "    \n",
    "    bootstrap_w_20.loc[i, :] = user_ct_2020.sample(n=user_ct_2020.index.size, random_state=rs, replace=True)[pr_cols].mean()\n",
    "    bootstrap_w_20.loc[i, :] = user_ct_2020[cols].sample(n=user_ct_2020.index.size, random_state=rs, replace=True).sum()\n",
    "\n",
    "    bootstrap_w_16.loc[i, :] = user_ct_2016.sample(n=user_ct_2016.index.size, random_state=rs, replace=True)[pr_cols].mean()\n",
    "\n",
    "bootstrap_w_20.to_csv(data_fldr + \"231110_users_20_bs.csv\")\n",
    "bootstrap_w_16.to_csv(data_fldr + \"231110_users_16_bs.csv\")"
   ]
  },
  {
   "cell_type": "markdown",
   "id": "a5c05425-cea7-4312-a563-4caa19af18c5",
   "metadata": {},
   "source": [
    "## Read in bootstrap results - start here to avoid re-running the bootstrap resampling"
   ]
  },
  {
   "cell_type": "code",
   "execution_count": 8,
   "id": "87c50ab9",
   "metadata": {},
   "outputs": [],
   "source": [
    "data_fldr = \"intermediate_data/\"\n",
    "\n",
    "bootstrap_w_20 = pd.read_csv(data_fldr + \"231110_users_20_bs.csv\")\n",
    "bootstrap_w_16 = pd.read_csv(data_fldr + \"231110_users_16_bs.csv\")"
   ]
  },
  {
   "cell_type": "code",
   "execution_count": 9,
   "id": "c2a0c882",
   "metadata": {},
   "outputs": [],
   "source": [
    "#prevalence ratios\n",
    "pr_cols = ['CDS', 'Labeling and mislabeling', 'Catastrophizing', 'Dichotomous Reasoning', 'Emotional Reasoning',\n",
    "       'Disqualifying the Positive', 'Magnification and Minimization',\n",
    "       'Mental Filtering', 'Mindreading', 'Fortune-telling',\n",
    "       'Overgeneralizing', 'Personalizing', 'Should statements']\n",
    "\n",
    "prs = pd.DataFrame()\n",
    "\n",
    "for col in pr_cols:\n",
    "    prs[col] = (bootstrap_w_20[col]/bootstrap_w_16[col])\n",
    "\n",
    "meds = prs.median()\n",
    "meds.sort_values(ascending=True, inplace=True)\n",
    "prs = prs[meds.index]"
   ]
  },
  {
   "cell_type": "code",
   "execution_count": 10,
   "id": "7a512de2",
   "metadata": {},
   "outputs": [
    {
     "data": {
      "text/plain": [
       "<matplotlib.lines.Line2D at 0x7fefee950250>"
      ]
     },
     "execution_count": 10,
     "metadata": {},
     "output_type": "execute_result"
    },
    {
     "data": {
      "image/png": "[encoded data removed]",
      "text/plain": [
       "<Figure size 640x480 with 1 Axes>"
      ]
     },
     "metadata": {},
     "output_type": "display_data"
    }
   ],
   "source": [
    "fig1, ax1 = plt.subplots()\n",
    "\n",
    "ax1.boxplot(prs, vert=False, showfliers=False, whis=(2.5,97.5))\n",
    "\n",
    "ax1.set_yticklabels(prs.columns)\n",
    "ax1.set_xlim([0.8,2.8])\n",
    "\n",
    "plt.xlabel(\"Prevalence Ratio (2020:2016)\")\n",
    "plt.title(\"Bootstrapped Between-subject PRs\")\n",
    "plt.axvline(1, color='r')"
   ]
  },
  {
   "cell_type": "code",
   "execution_count": null,
   "id": "f3631502-1323-4e05-a064-af0d6c2a71fb",
   "metadata": {},
   "outputs": [],
   "source": []
  }
 ],
 "metadata": {
  "kernelspec": {
   "display_name": "Python 3",
   "language": "python",
   "name": "python3"
  },
  "language_info": {
   "codemirror_mode": {
    "name": "ipython",
    "version": 3
   },
   "file_extension": ".py",
   "mimetype": "text/x-python",
   "name": "python",
   "nbconvert_exporter": "python",
   "pygments_lexer": "ipython3",
   "version": "3.11.9"
  }
 },
 "nbformat": 4,
 "nbformat_minor": 5
}
